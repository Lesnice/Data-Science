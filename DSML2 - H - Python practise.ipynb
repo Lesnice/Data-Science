{
 "cells": [
  {
   "cell_type": "code",
   "execution_count": 29,
   "id": "technological-margin",
   "metadata": {},
   "outputs": [
    {
     "name": "stdout",
     "output_type": "stream",
     "text": [
      "Original element 1 was odd.\n",
      "Original element 3 was odd.\n",
      "Original element 5 was odd.\n",
      "Original element 7 was odd.\n",
      "Original element 9 was odd.\n",
      "Updated list: [2, 3, 4, 5, 6, 7, 8, 9, 10]\n",
      "Dictionary without 'null' values: {'a': 'apples', 'c': 'pickles', 'd': 'brain'}\n"
     ]
    }
   ],
   "source": [
    "'''\n",
    "- For loops\n",
    "    - Create a for loop that iterates through a list of numbers\n",
    "    - +1 to every item in a list \n",
    "    -  print out if the original element was an odd number (hint: research modulo)\n",
    "    - Create a dictionary that contains null values\n",
    "    - Code a for loop to remove all instances of 'null' from a dictionary (requires research)\n",
    "\n",
    "'''\n",
    "\n",
    "\n",
    "# Task 1: Iterate through a list of numbers, add 1 to each item, and print if the original element was odd\n",
    "numbers = [1, 2, 3, 4, 5, 6, 7, 8, 9]\n",
    "for index, num in enumerate(numbers):\n",
    "    numbers[index] = num + 1\n",
    "    if num % 2 != 0:  # Check if the original element was odd using the modulo operator\n",
    "        print(f\"Original element {num} was odd.\")\n",
    "\n",
    "print(\"Updated list:\", numbers)\n",
    "\n",
    "# Task 2: Create a dictionary with null values and remove all instances of 'null'\n",
    "my_dict = {'a': 'apples', 'b': None, 'c': 'pickles', 'd': 'brain'}\n",
    "\n",
    "# Use list comprehension to create a new dictionary without 'null' values\n",
    "my_dict = {key: value for key, value in my_dict.items() if value is not None}\n",
    "\n",
    "print(\"Dictionary without 'null' values:\", my_dict)"
   ]
  },
  {
   "cell_type": "code",
   "execution_count": 1,
   "id": "90263689",
   "metadata": {},
   "outputs": [
    {
     "name": "stdout",
     "output_type": "stream",
     "text": [
      "101\n",
      "103\n",
      "201\n",
      "203\n"
     ]
    }
   ],
   "source": [
    "#another solution \n",
    "myNums = [101, 102, 103, 201, 202, 203]\n",
    "\n",
    "for i in myNums:\n",
    "    temp_i = i + 1\n",
    "    if (i % 2) != 0: # the % sign is used to divide i by 2 and return the remainder\n",
    "        print(i) # if remainder is not 0, then number is odd and so print the number"
   ]
  },
  {
   "cell_type": "code",
   "execution_count": 3,
   "id": "practical-colonial",
   "metadata": {},
   "outputs": [
    {
     "name": "stdout",
     "output_type": "stream",
     "text": [
      "This is your 1 trial\n",
      "This is your 2 trial\n",
      "This is your 3 trial\n",
      "This is your 4 trial\n",
      "This is your 5 trial\n",
      "This is your 6 trial\n",
      "This is your 7 trial\n",
      "This is your 8 trial\n",
      "This is your 9 trial\n"
     ]
    }
   ],
   "source": [
    "lst = [1,2,3,4,5,6,7,8,9]\n",
    "\n",
    "for x in lst:\n",
    "    print('This is your' + ' ' + str(x) + ' ' + 'trial')"
   ]
  },
  {
   "cell_type": "code",
   "execution_count": 30,
   "id": "animated-bosnia",
   "metadata": {},
   "outputs": [
    {
     "name": "stdout",
     "output_type": "stream",
     "text": [
      "Updated model performance list: [0.75, 0.82, 0.78, 0.81, 0.77, 0.83, 0.79, 0.76, 0.85, 0.74]\n"
     ]
    }
   ],
   "source": [
    " '''   \n",
    "- While loops\n",
    "    - Go through a list of integers, representing average ML model performance (between 0-1).\n",
    "    - Calculate out the error (difference between the desired average (you can specify) and the actual average). \n",
    "    - We don't want occurances of error > 12% to occur more than ten times in our subset of data- remove any below 0.12\n",
    "    \n",
    "'''\n",
    "   # Define the desired average and maximum allowable error\n",
    "desired_average = 0.8\n",
    "max_error = 0.12\n",
    "max_error_count = 10\n",
    "\n",
    "# Generate a list of model performance scores (between 0 and 1)\n",
    "model_performance = [0.75, 0.82, 0.78, 0.81, 0.77, 0.83, 0.79, 0.76, 0.85, 0.74]\n",
    "\n",
    "# Calculate the actual average\n",
    "actual_average = sum(model_performance) / len(model_performance)\n",
    "\n",
    "# Calculate the initial error\n",
    "error = abs(desired_average - actual_average)\n",
    "\n",
    "# Initialize error count\n",
    "error_count = 0\n",
    "\n",
    "# Use a while loop to check and remove elements with error > 12% up to 10 times\n",
    "while error > max_error and error_count < max_error_count:\n",
    "    # Find the index of the maximum error element\n",
    "    max_error_index = model_performance.index(max(model_performance, key=lambda x: abs(desired_average - x)))\n",
    "\n",
    "    # Remove the element with the maximum error\n",
    "    del model_performance[max_error_index]\n",
    "\n",
    "    # Recalculate the actual average and error\n",
    "    actual_average = sum(model_performance) / len(model_performance)\n",
    "    error = abs(desired_average - actual_average)\n",
    "\n",
    "    # Increment the error count\n",
    "    error_count += 1\n",
    "\n",
    "# Print the updated list after removing elements with error > 12%\n",
    "print(\"Updated model performance list:\", model_performance)\n"
   ]
  },
  {
   "cell_type": "code",
   "execution_count": 4,
   "id": "8df8cd43",
   "metadata": {},
   "outputs": [
    {
     "name": "stdout",
     "output_type": "stream",
     "text": [
      "[0.95, 0.85, 0.75, 0.6499999999999999, 0.5499999999999999, 0.44999999999999996, 0.35, 0.25, 0.1499999999999999]\n"
     ]
    }
   ],
   "source": [
    "#Here is another solution\n",
    "\n",
    "modelList = [0, 0.1, 0.2, 0.3, 0.4, 0.5, 0.6, 0.7, 0.8, 0.9, 1.0]\n",
    "errorList = []\n",
    "index = 0\n",
    "\n",
    "while index < len(modelList):\n",
    "\n",
    "    model_perf = modelList[index]\n",
    "    desired_perf = 0.95\n",
    "    model_error = desired_perf - model_perf\n",
    "    \n",
    "    if model_error > 0.12:\n",
    "        errorList.append(model_error)\n",
    "    \n",
    "    index += 1\n",
    "    \n",
    "print(errorList)"
   ]
  },
  {
   "cell_type": "code",
   "execution_count": null,
   "id": "indirect-theorem",
   "metadata": {},
   "outputs": [],
   "source": []
  },
  {
   "cell_type": "code",
   "execution_count": 33,
   "id": "banned-grant",
   "metadata": {},
   "outputs": [
    {
     "name": "stdout",
     "output_type": "stream",
     "text": [
      "Original list: [1, 2, 3, 'a', 'b', 1.5, 2.5, 'c', [1, 2], 'a', 'b', [1, 2]]\n",
      "Data type counter: {'int': 3, 'str': 5, 'float': 2, 'list': 2}\n",
      "Updated list: [1.5, 2.5, [1, 2], [1, 2]]\n"
     ]
    }
   ],
   "source": [
    "'''\n",
    "- functions\n",
    "    - Create a data type identifier\n",
    "    - Create a data type counter for lists - iterating through each element and returning a count for each data type in the list\n",
    "    - Bonus: if the counter for any element reaches a given limit, remove any further occurences in the list of that data type\n",
    "'''\n",
    "def identify_data_type(data):\n",
    "    # Function to identify the data type of the input\n",
    "    if isinstance(data, int):\n",
    "        return \"int\"\n",
    "    elif isinstance(data, float):\n",
    "        return \"float\"\n",
    "    elif isinstance(data, str):\n",
    "        return \"str\"\n",
    "    elif isinstance(data, list):\n",
    "        return \"list\"\n",
    "    else:\n",
    "        return \"other\"\n",
    "\n",
    "def count_data_types_in_list(my_list, limit=None):\n",
    "    # Function to count occurrences of each data type in a list\n",
    "    type_counter = {}\n",
    "\n",
    "    for element in my_list:\n",
    "        data_type = identify_data_type(element)\n",
    "\n",
    "        # Count occurrences of each data type\n",
    "        if data_type in type_counter:\n",
    "            type_counter[data_type] += 1\n",
    "        else:\n",
    "            type_counter[data_type] = 1\n",
    "\n",
    "        # Bonus: Remove further occurrences if the count reaches the given limit\n",
    "        if limit is not None and type_counter[data_type] > limit:\n",
    "            my_list = [item for item in my_list if identify_data_type(item) != data_type]\n",
    "\n",
    "    return type_counter, my_list\n",
    "\n",
    "# Example usage:\n",
    "my_list = [1, 2, 3, 'a', 'b', 1.5, 2.5, 'c', [1, 2], 'a', 'b', [1, 2]]\n",
    "limit = 2  # Set the limit for each data type\n",
    "\n",
    "type_counter, updated_list = count_data_types_in_list(my_list, limit)\n",
    "\n",
    "print(\"Original list:\", my_list)\n",
    "print(\"Data type counter:\", type_counter)\n",
    "print(\"Updated list:\", updated_list)\n"
   ]
  },
  {
   "cell_type": "code",
   "execution_count": null,
   "id": "twenty-diving",
   "metadata": {},
   "outputs": [],
   "source": []
  }
 ],
 "metadata": {
  "kernelspec": {
   "display_name": "Python 3 (ipykernel)",
   "language": "python",
   "name": "python3"
  },
  "language_info": {
   "codemirror_mode": {
    "name": "ipython",
    "version": 3
   },
   "file_extension": ".py",
   "mimetype": "text/x-python",
   "name": "python",
   "nbconvert_exporter": "python",
   "pygments_lexer": "ipython3",
   "version": "3.9.12"
  }
 },
 "nbformat": 4,
 "nbformat_minor": 5
}
