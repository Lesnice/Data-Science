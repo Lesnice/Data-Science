{
 "cells": [
  {
   "cell_type": "markdown",
   "metadata": {},
   "source": [
    "### Follow along with the cells below. Complete your own examples using numpy and pandas when prompted "
   ]
  },
  {
   "cell_type": "code",
   "execution_count": null,
   "metadata": {},
   "outputs": [],
   "source": [
    "'''\n",
    "This homework sheets is to help you to revise the basics of numpy and pandas\n",
    "(and also introducing you to matplotlib (for visualising data))\n",
    "Along the way you'll be prompted to create your own examples and try them out - this is highly recommended\n",
    "\n",
    "'''"
   ]
  },
  {
   "cell_type": "code",
   "execution_count": 2,
   "metadata": {},
   "outputs": [],
   "source": [
    "import numpy as np\n",
    "import pandas as pd\n",
    "import matplotlib.pyplot as plt"
   ]
  },
  {
   "cell_type": "markdown",
   "metadata": {},
   "source": [
    "### Numpy - Library for mathematical functions such as linear algebra\n",
    "\n",
    "<img src=\"../images/numpy.png\" alt=\"Drawing\" style=\"width: 350px;\"/>\n",
    "\n",
    "- Provide array objects\n",
    "- 50x faster than using traditional python lists\n"
   ]
  },
  {
   "cell_type": "markdown",
   "metadata": {},
   "source": [
    "### Numpy dimensionality\n",
    "#### Create your first numpy array"
   ]
  },
  {
   "cell_type": "code",
   "execution_count": 4,
   "metadata": {},
   "outputs": [
    {
     "name": "stdout",
     "output_type": "stream",
     "text": [
      "[1 2 3 4 5]\n",
      "<class 'numpy.ndarray'>\n"
     ]
    }
   ],
   "source": [
    "arr = np.array([1, 2, 3, 4, 5])\n",
    "\n",
    "print(arr)\n",
    "\n",
    "print(type(arr))\n"
   ]
  },
  {
   "cell_type": "code",
   "execution_count": null,
   "metadata": {},
   "outputs": [],
   "source": [
    "'''\n",
    "Create your own array and output the array and the type (should be numpy array)\n",
    "'''"
   ]
  },
  {
   "cell_type": "code",
   "execution_count": 5,
   "metadata": {},
   "outputs": [
    {
     "name": "stdout",
     "output_type": "stream",
     "text": [
      "<class 'numpy.ndarray'>\n"
     ]
    }
   ],
   "source": [
    "arr_own = np.array([1, 2, 3, 4, 5, 6, 7])\n",
    "print(type(arr_own))"
   ]
  },
  {
   "cell_type": "markdown",
   "metadata": {},
   "source": [
    "#### N-dimension arrays\n",
    "- This is a very important concept to grasp for data science\n",
    "- You will come across a range of arrays with different dimensions\n",
    "\n",
    "#### 0 dimension array\n",
    "- Essential just a number, known as a 'scalar'"
   ]
  },
  {
   "cell_type": "code",
   "execution_count": null,
   "metadata": {},
   "outputs": [],
   "source": [
    "arr = np.array(31)\n",
    "\n",
    "print(arr)"
   ]
  },
  {
   "cell_type": "markdown",
   "metadata": {},
   "source": [
    "#### 1 dimension array\n",
    "- an array containing scalars\n",
    "- imagine it like a python list"
   ]
  },
  {
   "cell_type": "code",
   "execution_count": null,
   "metadata": {},
   "outputs": [],
   "source": [
    "arr_1d = np.array([31,32,33,34,35])\n",
    "\n",
    "print(arr_1d)"
   ]
  },
  {
   "cell_type": "markdown",
   "metadata": {},
   "source": [
    "#### 2 dimension array (matrix)\n",
    "- an array containing 1-dimension arrays\n",
    "- referred to as a matrix (plural: matrices)\n",
    "- imagine a python list containing lists [[1,2,3,4],[5,6,7,8],[9,10,11,12]]"
   ]
  },
  {
   "cell_type": "code",
   "execution_count": 6,
   "metadata": {},
   "outputs": [
    {
     "name": "stdout",
     "output_type": "stream",
     "text": [
      "[[ 1  2  3  4]\n",
      " [ 5  6  7  8]\n",
      " [ 9 10 11 12]]\n"
     ]
    }
   ],
   "source": [
    "arr_2d = np.array([[1,2,3,4],[5,6,7,8],[9,10,11,12]])\n",
    "\n",
    "print(arr_2d)"
   ]
  },
  {
   "cell_type": "markdown",
   "metadata": {},
   "source": [
    "#### 3 dimension array\n",
    "- an array containing 2-dimension arrays\n",
    "- python list within a list within a list"
   ]
  },
  {
   "cell_type": "code",
   "execution_count": 4,
   "metadata": {},
   "outputs": [
    {
     "name": "stdout",
     "output_type": "stream",
     "text": [
      "[[[ 1  2  3  4]\n",
      "  [ 5  6  7  8]]\n",
      "\n",
      " [[ 9 10 11 12]\n",
      "  [13 14 15 16]]]\n"
     ]
    }
   ],
   "source": [
    "arr_3d = np.array([[[1,2,3,4],[5,6,7,8]],[[9,10,11,12],[13,14,15,16]]])\n",
    "\n",
    "print(arr_3d)"
   ]
  },
  {
   "cell_type": "markdown",
   "metadata": {},
   "source": [
    "#### Finding the dimensionality of an array\n"
   ]
  },
  {
   "cell_type": "code",
   "execution_count": 7,
   "metadata": {},
   "outputs": [
    {
     "name": "stdout",
     "output_type": "stream",
     "text": [
      "1\n"
     ]
    }
   ],
   "source": [
    "print(arr.ndim)"
   ]
  },
  {
   "cell_type": "markdown",
   "metadata": {},
   "source": [
    "#### Can you see another way to quickly identify dimensionality?"
   ]
  },
  {
   "cell_type": "code",
   "execution_count": 5,
   "metadata": {},
   "outputs": [
    {
     "name": "stdout",
     "output_type": "stream",
     "text": [
      "[[[ 1  2  3  4]\n",
      "  [ 5  6  7  8]]\n",
      "\n",
      " [[ 9 10 11 12]\n",
      "  [13 14 15 16]]]\n"
     ]
    }
   ],
   "source": [
    "print(arr_3d)"
   ]
  },
  {
   "cell_type": "code",
   "execution_count": 2,
   "metadata": {},
   "outputs": [
    {
     "data": {
      "text/plain": [
       "'\\nbasic numpy exercises\\n\\n\\n'"
      ]
     },
     "execution_count": 2,
     "metadata": {},
     "output_type": "execute_result"
    }
   ],
   "source": [
    "'''\n",
    "Create your own long numpy array, long enough that you can convert it to 3d\n",
    "Convert it to 3d\n",
    "Output the dimensionality of the array before and after the conversion\n",
    "\n",
    "'''"
   ]
  },
  {
   "cell_type": "code",
   "execution_count": 8,
   "metadata": {},
   "outputs": [
    {
     "name": "stdout",
     "output_type": "stream",
     "text": [
      "1\n",
      "[[[31 32]\n",
      "  [33 34]]\n",
      "\n",
      " [[35  3]\n",
      "  [ 4  1]]\n",
      "\n",
      " [[24 54]\n",
      "  [23 45]]]\n",
      "3\n"
     ]
    }
   ],
   "source": [
    "# 1D\n",
    "long_arr = np.array([31,32,33,34,35,3,4,1,24,54,23,45])\n",
    "print(long_arr.ndim)\n",
    "\n",
    "# 3D\n",
    "print(long_arr.reshape(3, 2, 2))\n",
    "print(long_arr.reshape(3, 2, 2).ndim)"
   ]
  },
  {
   "cell_type": "markdown",
   "metadata": {},
   "source": [
    "### Numpy indexing\n",
    "- Accessing specific elements within a numpy array\n",
    "- Very similar to list indexing with python"
   ]
  },
  {
   "cell_type": "code",
   "execution_count": 6,
   "metadata": {},
   "outputs": [
    {
     "data": {
      "text/plain": [
       "array([5, 6, 7, 8])"
      ]
     },
     "execution_count": 6,
     "metadata": {},
     "output_type": "execute_result"
    }
   ],
   "source": [
    "arr_3d = np.array([[[1,2,3,4],[5,6,7,8]],[[9,10,11,12],[13,14,15,16]]])\n",
    "#accessing the second 1-d array within the first 2-d array\n",
    "arr_3d[0,1]\n"
   ]
  },
  {
   "cell_type": "markdown",
   "metadata": {},
   "source": [
    "#### Your go:\n",
    "- Create a 3-d array, write which elements you will access, and then use slicing to access"
   ]
  },
  {
   "cell_type": "code",
   "execution_count": 9,
   "metadata": {},
   "outputs": [
    {
     "name": "stdout",
     "output_type": "stream",
     "text": [
      "[[1 2 3 4]\n",
      " [5 6 7 8]]\n",
      "[[ 9 10 11 12]\n",
      " [13 14 15 16]]\n",
      "[ 9 10 11 12]\n"
     ]
    }
   ],
   "source": [
    "arr_3d = np.array([[[1,2,3,4],[5,6,7,8]],[[9,10,11,12],[13,14,15,16]]])\n",
    "print(arr_3d[0])\n",
    "print(arr_3d[1])\n",
    "print(arr_3d[1,0])"
   ]
  },
  {
   "cell_type": "markdown",
   "metadata": {},
   "source": [
    "### Numpy slicing\n",
    "- Accessing specific slices of a numpy array\n",
    "- Very similar to list slicing with python"
   ]
  },
  {
   "cell_type": "code",
   "execution_count": null,
   "metadata": {},
   "outputs": [],
   "source": [
    "arr_3d = np.array([[[1,2,3,4],[5,6,7,8]],[[9,10,11,12],[13,14,15,16]]])\n",
    "arr_3d[1:]\n",
    "arr_3[1, 1:2]"
   ]
  },
  {
   "cell_type": "markdown",
   "metadata": {},
   "source": [
    "### Pandas - high-performance, easy-to-use data structures and data analysis tools\n",
    "\n",
    "<img src=\"../images/pandas.jpg\" alt=\"Drawing\" align=\"left\" style=\"width: 350px;\"/>\n"
   ]
  },
  {
   "cell_type": "markdown",
   "metadata": {},
   "source": [
    "<table>\n",
    "    <tr>\n",
    "        <th>Data structure</th>\n",
    "        <th>Dimensions</th>\n",
    "        <th>Description</th>\n",
    "    </tr>\n",
    "    <tr>\n",
    "        <td>Series</td>\n",
    "        <td>1</td>\n",
    "        <td>labeled homogeneous array</td>\n",
    "    </tr>    \n",
    "    <tr>\n",
    "        <td>Data frames</td>\n",
    "        <td>2</td>\n",
    "        <td>General 2D labeled, size-mutable tabular structure with potentially heterogeneously typed columns</td>\n",
    "    </tr>\n",
    "    <tr>\n",
    "        <td>Panel</td>\n",
    "        <td>3</td>\n",
    "        <td>General 3D labeled, size-mutable array</td>\n",
    "    </tr>\n",
    "</table>\n"
   ]
  },
  {
   "cell_type": "markdown",
   "metadata": {},
   "source": [
    "#### Pandas series\n",
    "- Basic array\n",
    "- e.g ages - [22,12,13,44,31,29]\n",
    "- pandas.Series( data, index, dtype, copy)"
   ]
  },
  {
   "cell_type": "markdown",
   "metadata": {},
   "source": [
    "#### Create a pandas series from a numpy array"
   ]
  },
  {
   "cell_type": "code",
   "execution_count": 10,
   "metadata": {},
   "outputs": [
    {
     "name": "stdout",
     "output_type": "stream",
     "text": [
      "0    a\n",
      "1    b\n",
      "2    c\n",
      "3    d\n",
      "dtype: object\n"
     ]
    }
   ],
   "source": [
    "data = np.array(['a','b','c','d'])\n",
    "series = pd.Series(data)\n",
    "print(series)"
   ]
  },
  {
   "cell_type": "markdown",
   "metadata": {},
   "source": [
    "#### Create a pandas series from a dictionary"
   ]
  },
  {
   "cell_type": "code",
   "execution_count": 11,
   "metadata": {},
   "outputs": [
    {
     "name": "stdout",
     "output_type": "stream",
     "text": [
      "a    0.0\n",
      "b    1.0\n",
      "c    2.0\n",
      "dtype: float64\n"
     ]
    }
   ],
   "source": [
    "data = {'a' : 0., 'b' : 1., 'c' : 2.}\n",
    "series = pd.Series(data)\n",
    "print (series)"
   ]
  },
  {
   "cell_type": "markdown",
   "metadata": {},
   "source": [
    "#### Pandas dataframe (df)\n",
    "- 2-d array of heterogeneous data\n",
    "- Essentially a table with rows and columns\n",
    "- We will be pretty much exclusively working with dfs during this course\n",
    "- A pandas DataFrame can be created using the following constructor − pandas.DataFrame( data, index, columns, dtype, copy)\n",
    "\n",
    "<img src=\"../images/df.png\" alt=\"Drawing\" align=\"left\" style=\"width: 350px;\"/>"
   ]
  },
  {
   "cell_type": "code",
   "execution_count": 12,
   "metadata": {},
   "outputs": [
    {
     "name": "stdout",
     "output_type": "stream",
     "text": [
      "     Name  Age\n",
      "0    Jake   30\n",
      "1    Emma   27\n",
      "2  Emilia   24\n"
     ]
    }
   ],
   "source": [
    "data = [['Jake',30],['Emma',27],['Emilia',24]]\n",
    "df = pd.DataFrame(data,columns=['Name','Age'])\n",
    "print (df)"
   ]
  },
  {
   "cell_type": "markdown",
   "metadata": {},
   "source": [
    "#### Selecting a column\n",
    "- df[column_name]"
   ]
  },
  {
   "cell_type": "code",
   "execution_count": 19,
   "metadata": {},
   "outputs": [
    {
     "data": {
      "text/plain": [
       "0      Jake\n",
       "1      Emma\n",
       "2    Emilia\n",
       "Name: Name, dtype: object"
      ]
     },
     "execution_count": 19,
     "metadata": {},
     "output_type": "execute_result"
    }
   ],
   "source": [
    "df['Name']"
   ]
  },
  {
   "cell_type": "markdown",
   "metadata": {},
   "source": [
    "#### Adding a new column\n",
    "- df[new_column_name] = pd.Series"
   ]
  },
  {
   "cell_type": "code",
   "execution_count": 20,
   "metadata": {},
   "outputs": [
    {
     "name": "stdout",
     "output_type": "stream",
     "text": [
      "     Name  Age Occupation\n",
      "0    Jake   30     Farmer\n",
      "1    Emma   27     Doctor\n",
      "2  Emilia   24   Engineer\n"
     ]
    }
   ],
   "source": [
    "df['Occupation'] = pd.Series(['Farmer','Doctor','Engineer'], index=[0,1,2])\n",
    "print(df)"
   ]
  },
  {
   "cell_type": "markdown",
   "metadata": {},
   "source": [
    "#### Deleting a column\n",
    "- del df[\"column_name\"]"
   ]
  },
  {
   "cell_type": "code",
   "execution_count": 14,
   "metadata": {},
   "outputs": [
    {
     "name": "stdout",
     "output_type": "stream",
     "text": [
      "     Name  Age\n",
      "0    Jake   30\n",
      "1    Emma   27\n",
      "2  Emilia   24\n",
      "0     Jim   36\n",
      "1  Hannah   22\n"
     ]
    }
   ],
   "source": [
    "del df['Occupation']\n",
    "print(df)"
   ]
  },
  {
   "cell_type": "markdown",
   "metadata": {},
   "source": [
    "#### Adding a row\n",
    "- df = df.append(df2)\n"
   ]
  },
  {
   "cell_type": "code",
   "execution_count": 17,
   "metadata": {},
   "outputs": [
    {
     "name": "stdout",
     "output_type": "stream",
     "text": [
      "     Name  Age Occupation\n",
      "0    Jake   30     Farmer\n",
      "1    Emma   27     Doctor\n",
      "2  Emilia   24   Engineer\n",
      "0     Jim   36     Farmer\n",
      "1  Hannah   22     Doctor\n",
      "0     Jim   36     Farmer\n",
      "1  Hannah   22     Doctor\n",
      "0     Jim   36      Actor\n",
      "1  Hannah   22   Comedian\n"
     ]
    },
    {
     "name": "stderr",
     "output_type": "stream",
     "text": [
      "C:\\Users\\ka416\\AppData\\Local\\Temp\\ipykernel_13072\\1735201482.py:3: FutureWarning: The frame.append method is deprecated and will be removed from pandas in a future version. Use pandas.concat instead.\n",
      "  df = df.append(df2)\n"
     ]
    }
   ],
   "source": [
    "df['Occupation'] = pd.Series(['Farmer','Doctor','Engineer'], index=[0,1,2])\n",
    "df2 = pd.DataFrame([['Jim',36,'Actor'], ['Hannah',22,'Comedian']], columns = ['Name','Age','Occupation'])\n",
    "df = df.append(df2)\n",
    "print(df)"
   ]
  },
  {
   "cell_type": "markdown",
   "metadata": {},
   "source": [
    "#### Deleting a row\n",
    "- df.drop(index_number)"
   ]
  },
  {
   "cell_type": "code",
   "execution_count": 24,
   "metadata": {},
   "outputs": [
    {
     "name": "stdout",
     "output_type": "stream",
     "text": [
      "     Name  Age Occupation\n",
      "1    Emma   27     Doctor\n",
      "2  Emilia   24   Engineer\n",
      "1  Hannah   22   Comedian\n"
     ]
    }
   ],
   "source": [
    "df = df.drop(0)\n",
    "print(df)"
   ]
  },
  {
   "cell_type": "code",
   "execution_count": null,
   "metadata": {},
   "outputs": [],
   "source": [
    "'''\n",
    "Create your own dataframe containing information on people's health and activity levels\n",
    "Add a new column to include a 'healthy diet' score\n",
    "Add a function that turns this score into a percentage score and delete the original column\n",
    "Access a slice of the first 5 rows\n",
    "Filter for those with a diet score <50%\n",
    "'''"
   ]
  },
  {
   "cell_type": "code",
   "execution_count": null,
   "metadata": {},
   "outputs": [],
   "source": []
  },
  {
   "cell_type": "markdown",
   "metadata": {},
   "source": [
    "### Matplotlib - Plotting library for data visulisation\n",
    "\n",
    "<img src=\"../images/matplotlib.png\" alt=\"Drawing\" align=\"left\" style=\"width: 350px;\"/>\n",
    "\n",
    "<img src=\"../images/plt.png\" alt=\"Drawing\" style=\"width: 350px;\"/>\n"
   ]
  },
  {
   "cell_type": "markdown",
   "metadata": {},
   "source": [
    "#### Pyplot - an essential submodule"
   ]
  },
  {
   "cell_type": "code",
   "execution_count": 18,
   "metadata": {},
   "outputs": [],
   "source": [
    "import matplotlib.pyplot as plt"
   ]
  },
  {
   "cell_type": "markdown",
   "metadata": {},
   "source": [
    "#### Plotting a basic graph with numpy arrays"
   ]
  },
  {
   "cell_type": "code",
   "execution_count": 22,
   "metadata": {},
   "outputs": [
    {
     "data": {
      "image/png": "[encoded data removed]",
      "text/plain": [
       "<Figure size 432x288 with 1 Axes>"
      ]
     },
     "metadata": {
      "needs_background": "light"
     },
     "output_type": "display_data"
    }
   ],
   "source": [
    "x = np.array([0, 10])\n",
    "y = np.array([0, 1000])\n",
    "\n",
    "plt.plot(x, y, \"o\") \n",
    "plt.show()"
   ]
  },
  {
   "cell_type": "code",
   "execution_count": 27,
   "metadata": {},
   "outputs": [
    {
     "data": {
      "image/png": "[encoded data removed]",
      "text/plain": [
       "<Figure size 432x288 with 1 Axes>"
      ]
     },
     "metadata": {
      "needs_background": "light"
     },
     "output_type": "display_data"
    }
   ],
   "source": [
    "plt.plot(x, y,'o') \n",
    "plt.show()"
   ]
  },
  {
   "cell_type": "code",
   "execution_count": null,
   "metadata": {},
   "outputs": [],
   "source": [
    "'''\n",
    "Plot your own five data points with a line\n",
    "\n",
    "'''"
   ]
  },
  {
   "cell_type": "markdown",
   "metadata": {},
   "source": [
    "#### Multiple plots\n",
    "- Just add more plt.plots"
   ]
  },
  {
   "cell_type": "code",
   "execution_count": 30,
   "metadata": {},
   "outputs": [
    {
     "data": {
      "image/png": "[encoded data removed]",
      "text/plain": [
       "<Figure size 432x288 with 1 Axes>"
      ]
     },
     "metadata": {
      "needs_background": "light"
     },
     "output_type": "display_data"
    }
   ],
   "source": [
    "x = np.array([0, 10, 20, 30])\n",
    "y1 = np.array([0, 50, 38, 80])\n",
    "y2 = np.array([70, 40, 40, 1])\n",
    "\n",
    "plt.plot(x, y1) \n",
    "plt.plot(x, y2) \n",
    "plt.show()"
   ]
  },
  {
   "cell_type": "markdown",
   "metadata": {},
   "source": [
    "#### Styling\n",
    "- Marker stlying\n",
    "- (shape, size, fill colour, border colour)\n",
    "- Line styling\n",
    "- (shape, colour)"
   ]
  },
  {
   "cell_type": "markdown",
   "metadata": {},
   "source": [
    "#### Marker shape"
   ]
  },
  {
   "cell_type": "code",
   "execution_count": 31,
   "metadata": {},
   "outputs": [
    {
     "data": {
      "image/png": "[encoded data removed]",
      "text/plain": [
       "<Figure size 432x288 with 1 Axes>"
      ]
     },
     "metadata": {
      "needs_background": "light"
     },
     "output_type": "display_data"
    }
   ],
   "source": [
    "x = np.array([0, 10, 20, 30])\n",
    "y = np.array([0, 50, 38, 80])\n",
    "\n",
    "\n",
    "plt.plot(x, y, marker='o') \n",
    "# plt.plot(x, y, marker='*') \n",
    "plt.show()"
   ]
  },
  {
   "cell_type": "markdown",
   "metadata": {},
   "source": [
    "#### Marker size"
   ]
  },
  {
   "cell_type": "code",
   "execution_count": 32,
   "metadata": {},
   "outputs": [
    {
     "data": {
      "image/png": "[encoded data removed]",
      "text/plain": [
       "<Figure size 432x288 with 1 Axes>"
      ]
     },
     "metadata": {
      "needs_background": "light"
     },
     "output_type": "display_data"
    }
   ],
   "source": [
    "x = np.array([0, 10, 20, 30])\n",
    "y = np.array([0, 50, 38, 80])\n",
    "\n",
    "\n",
    "plt.plot(x, y, marker='o', ms=20) \n",
    "plt.show()"
   ]
  },
  {
   "cell_type": "markdown",
   "metadata": {},
   "source": [
    "#### Marker colour"
   ]
  },
  {
   "cell_type": "code",
   "execution_count": 33,
   "metadata": {
    "scrolled": true
   },
   "outputs": [
    {
     "data": {
      "image/png": "[encoded data removed]",
      "text/plain": [
       "<Figure size 432x288 with 1 Axes>"
      ]
     },
     "metadata": {
      "needs_background": "light"
     },
     "output_type": "display_data"
    }
   ],
   "source": [
    "x = np.array([0, 10, 20, 30])\n",
    "y = np.array([0, 50, 38, 80])\n",
    "\n",
    "#marker edge colour\n",
    "#marker face colour\n",
    "plt.plot(x, y, marker='o', ms=20, mec = 'r', mfc = 'g') \n",
    "plt.show()"
   ]
  },
  {
   "cell_type": "markdown",
   "metadata": {},
   "source": [
    "#### Linestyle"
   ]
  },
  {
   "cell_type": "code",
   "execution_count": 35,
   "metadata": {},
   "outputs": [
    {
     "data": {
      "image/png": "[encoded data removed]",
      "text/plain": [
       "<Figure size 432x288 with 1 Axes>"
      ]
     },
     "metadata": {
      "needs_background": "light"
     },
     "output_type": "display_data"
    }
   ],
   "source": [
    "x = np.array([0, 10, 20, 30])\n",
    "y = np.array([60, 50, 2, 5])\n",
    "\n",
    "plt.plot(x, y, linestyle='dotted') \n",
    "# plt.plot(x, y, linestyle='dashed') \n",
    "plt.show()"
   ]
  },
  {
   "cell_type": "markdown",
   "metadata": {},
   "source": [
    "#### Line colour"
   ]
  },
  {
   "cell_type": "code",
   "execution_count": 39,
   "metadata": {},
   "outputs": [
    {
     "data": {
      "image/png": "[encoded data removed]",
      "text/plain": [
       "<Figure size 432x288 with 1 Axes>"
      ]
     },
     "metadata": {
      "needs_background": "light"
     },
     "output_type": "display_data"
    }
   ],
   "source": [
    "x = np.array([0, 10, 20, 30])\n",
    "y = np.array([60, 50, 2, 5])\n",
    "\n",
    "plt.plot(x, y, color='red') \n",
    "#plt.plot(x, y, color='#adf4ec') \n",
    "plt.show()"
   ]
  },
  {
   "cell_type": "markdown",
   "metadata": {},
   "source": [
    "#### Line thickness\n"
   ]
  },
  {
   "cell_type": "code",
   "execution_count": 40,
   "metadata": {},
   "outputs": [
    {
     "data": {
      "image/png": "[encoded data removed]",
      "text/plain": [
       "<Figure size 432x288 with 1 Axes>"
      ]
     },
     "metadata": {
      "needs_background": "light"
     },
     "output_type": "display_data"
    }
   ],
   "source": [
    "x = np.array([0, 10, 20, 30])\n",
    "y = np.array([60, 50, 2, 5])\n",
    "\n",
    "plt.plot(x, y, linewidth=20) \n",
    "plt.show()"
   ]
  },
  {
   "cell_type": "code",
   "execution_count": null,
   "metadata": {},
   "outputs": [],
   "source": []
  },
  {
   "cell_type": "code",
   "execution_count": null,
   "metadata": {},
   "outputs": [],
   "source": []
  }
 ],
 "metadata": {
  "kernelspec": {
   "display_name": "Python 3 (ipykernel)",
   "language": "python",
   "name": "python3"
  },
  "language_info": {
   "codemirror_mode": {
    "name": "ipython",
    "version": 3
   },
   "file_extension": ".py",
   "mimetype": "text/x-python",
   "name": "python",
   "nbconvert_exporter": "python",
   "pygments_lexer": "ipython3",
   "version": "3.9.12"
  }
 },
 "nbformat": 4,
 "nbformat_minor": 4
}
