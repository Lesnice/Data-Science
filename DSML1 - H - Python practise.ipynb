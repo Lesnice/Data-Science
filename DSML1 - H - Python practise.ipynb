{
 "cells": [
  {
   "cell_type": "code",
   "execution_count": null,
   "id": "electrical-metallic",
   "metadata": {},
   "outputs": [],
   "source": [
    "'''\n",
    "- Data types\n",
    "    - convert an integer to string\n",
    "    - convert a string to integer\n",
    "    \n",
    "'''"
   ]
  },
  {
   "cell_type": "code",
   "execution_count": 3,
   "id": "catholic-tobago",
   "metadata": {},
   "outputs": [
    {
     "name": "stdout",
     "output_type": "stream",
     "text": [
      "<class 'int'>\n",
      "<class 'str'>\n"
     ]
    }
   ],
   "source": [
    "a = 3\n",
    "print(type(a))\n",
    "print (type(str(a)))"
   ]
  },
  {
   "cell_type": "code",
   "execution_count": null,
   "id": "adopted-eclipse",
   "metadata": {},
   "outputs": [],
   "source": [
    "'''\n",
    "\n",
    "- Lists and indexing\n",
    "    - Flip a coin ten times. Create a list of the results\n",
    "        - Take a subset of four results from this list. What conclusions can you make from this subset?\n",
    "        - (bonus: what problems are there with making conclusions from this subset?)\n",
    "    - Roll a virtual dice (https://rolladie.net/). Create a list from these results\n",
    "        - Return the highest and lowest observed result\n",
    "        - Return the most commonly occuring result (requires research)\n",
    "    - List containing names\n",
    "        - Add names\n",
    "        - Remove one of the names from the list\n",
    "        - Call register with names starting from Z - descending\n",
    "        - returning all names with letters beginning with J or higher (requires research)\n",
    "    \n",
    "'''"
   ]
  },
  {
   "cell_type": "code",
   "execution_count": 5,
   "id": "federal-pittsburgh",
   "metadata": {},
   "outputs": [
    {
     "name": "stdout",
     "output_type": "stream",
     "text": [
      "[False, True, False, False, True, True, False, False, True, False]\n",
      "[False, True, False, True]\n"
     ]
    }
   ],
   "source": [
    "import random\n",
    "\n",
    "flip_lst = []\n",
    "\n",
    "for i in range(0,10):\n",
    "    flip_lst.append(random.choice([True,False]))\n",
    "    \n",
    "print(flip_lst)\n",
    "\n",
    "print(random.sample(flip_lst, 4))\n",
    "# sample not representative of the population"
   ]
  },
  {
   "cell_type": "code",
   "execution_count": 6,
   "id": "2a5d89ea",
   "metadata": {},
   "outputs": [
    {
     "name": "stdout",
     "output_type": "stream",
     "text": [
      "6\n",
      "1\n",
      "{1, 2, 3, 4, 5, 6}\n",
      "6\n"
     ]
    },
    {
     "data": {
      "text/plain": [
       "1"
      ]
     },
     "execution_count": 6,
     "metadata": {},
     "output_type": "execute_result"
    }
   ],
   "source": [
    "dice_lst = [1, 5, 6, 3, 2, 3, 1, 1, 4, 2]\n",
    "\n",
    "print(max(dice_lst)) # max\n",
    "print(min(dice_lst)) # min\n",
    "\n",
    "print(set(dice_lst)) # set i.e. unique values\n",
    "print(max(set(dice_lst))) # max in set\n",
    "\n",
    "max(set(dice_lst), key = dice_lst.count) # mode i.e. most commonly occuring....returns key with max"
   ]
  },
  {
   "cell_type": "code",
   "execution_count": 10,
   "id": "e9b95ab9",
   "metadata": {},
   "outputs": [
    {
     "name": "stdout",
     "output_type": "stream",
     "text": [
      "['Zach', 'Matthew', 'Mark', 'Luke', 'Janet', 'Billie', 'Albert']\n",
      "['Janet', 'Billie', 'Albert']\n",
      "<function <lambda> at 0x000002298926BC10>\n"
     ]
    }
   ],
   "source": [
    "name_lst = ['Albert', 'Billie', 'Zach', 'Matthew', 'Mark', 'Luke', 'Janet', 'John', 'Leslie']\n",
    "name_lst.pop() # removes 'Leslie'\n",
    "name_lst.remove('John')\n",
    "name_lst.sort(reverse=True) # sorts in descending order\n",
    "print(name_lst)\n",
    "\n",
    "print(list(filter(lambda x: x < 'K', name_lst))) # use a lambda function within the filter method, then return the filter as a list\n",
    "\n",
    "print(lambda x: x < 'K')"
   ]
  },
  {
   "cell_type": "code",
   "execution_count": null,
   "id": "covered-mirror",
   "metadata": {},
   "outputs": [],
   "source": [
    "'''\n",
    "    \n",
    "- Dictionaries\n",
    "    - create a dictionary of people and their heights\n",
    "    - Acess Bill's height\n",
    "    - Add Mary, 1.56\n",
    "    - Who's the tallest, who's the smallest?\n",
    "    - What's the average height?\n",
    "    \n",
    "'''"
   ]
  },
  {
   "cell_type": "code",
   "execution_count": 39,
   "id": "colonial-rocket",
   "metadata": {},
   "outputs": [
    {
     "name": "stdout",
     "output_type": "stream",
     "text": [
      "{'Bill': 1.88, 'Andrew': 1.78, 'Latika': 1.6, 'Mary': 1.76}\n",
      "1.88\n",
      "1.755\n"
     ]
    }
   ],
   "source": [
    "height_dict = {'Bill': 1.88, 'Andrew': 1.78, 'Latika':1.60}\n",
    "height_dict['Mary'] = 1.76\n",
    "print(height_dict)\n",
    "print(max(height_dict.values())) # max height\n",
    "print(sum(height_dict.values()) / len(height_dict)) # average height"
   ]
  },
  {
   "cell_type": "code",
   "execution_count": 40,
   "id": "653d9c73",
   "metadata": {},
   "outputs": [
    {
     "data": {
      "text/plain": [
       "'Bill'"
      ]
     },
     "execution_count": 40,
     "metadata": {},
     "output_type": "execute_result"
    }
   ],
   "source": [
    "max(height_dict, key=height_dict.get)"
   ]
  },
  {
   "cell_type": "code",
   "execution_count": null,
   "id": "victorian-africa",
   "metadata": {},
   "outputs": [],
   "source": [
    "'''\n",
    "    \n",
    "- If/else statements\n",
    "    - Detect if null occurs a list, and warning user if this is the case (will require research on creating a null value)\n",
    "    - Create a program for detecting if a house price is outside of the normal range (£100000 - £800000), \n",
    "    and alerting if it's too cheap, too expensive or it's within this range\n",
    "    \n",
    "'''"
   ]
  },
  {
   "cell_type": "code",
   "execution_count": 41,
   "id": "suitable-remedy",
   "metadata": {},
   "outputs": [
    {
     "name": "stdout",
     "output_type": "stream",
     "text": [
      "True\n",
      "House is too cheap\n",
      "House is too expensive\n",
      "Price is within normal range\n",
      "Price is within normal range\n"
     ]
    }
   ],
   "source": [
    "house_lst = [None, 100000, 1000000, 750000, 500000]\n",
    "\n",
    "print(None in house_lst)\n",
    "\n",
    "for house in house_lst:\n",
    "    if house != None:\n",
    "        if house > 100000 and house <= 800000:\n",
    "            print('Price is within normal range')\n",
    "        elif house <= 100000:\n",
    "            print('House is too cheap')\n",
    "        else:\n",
    "            print('House is too expensive')"
   ]
  },
  {
   "cell_type": "code",
   "execution_count": null,
   "id": "d55e2955",
   "metadata": {},
   "outputs": [],
   "source": []
  }
 ],
 "metadata": {
  "kernelspec": {
   "display_name": "Python 3 (ipykernel)",
   "language": "python",
   "name": "python3"
  },
  "language_info": {
   "codemirror_mode": {
    "name": "ipython",
    "version": 3
   },
   "file_extension": ".py",
   "mimetype": "text/x-python",
   "name": "python",
   "nbconvert_exporter": "python",
   "pygments_lexer": "ipython3",
   "version": "3.9.12"
  }
 },
 "nbformat": 4,
 "nbformat_minor": 5
}
